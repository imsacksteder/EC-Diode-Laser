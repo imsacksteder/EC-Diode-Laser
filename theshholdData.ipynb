{
 "cells": [
  {
   "cell_type": "code",
   "execution_count": 35,
   "metadata": {},
   "outputs": [],
   "source": [
    "import numpy as np\n",
    "import matplotlib.pyplot as plt\n",
    "from sklearn.linear_model import LinearRegression\n",
    "import pandas as p\n",
    "from scipy.stats import stats\n",
    "from scipy.optimize import curve_fit\n",
    "import scipy.optimize"
   ]
  },
  {
   "cell_type": "markdown",
   "metadata": {},
   "source": [
    "### Without Feedback"
   ]
  },
  {
   "cell_type": "code",
   "execution_count": 49,
   "metadata": {},
   "outputs": [],
   "source": [
    "#read csv files using panda\n",
    "#use 'skiprows' to define data sets before and after the threshhold\n",
    "h = p.read_csv('thresholdData.csv')\n",
    "h_above = p.read_csv('thresholdData.csv', skiprows=[1,2,3])\n",
    "h_below = p.read_csv('thresholdData.csv', skiprows=[i for i in range(5,15)])"
   ]
  },
  {
   "cell_type": "code",
   "execution_count": 37,
   "metadata": {},
   "outputs": [
    {
     "data": {
      "text/html": [
       "<div>\n",
       "<style scoped>\n",
       "    .dataframe tbody tr th:only-of-type {\n",
       "        vertical-align: middle;\n",
       "    }\n",
       "\n",
       "    .dataframe tbody tr th {\n",
       "        vertical-align: top;\n",
       "    }\n",
       "\n",
       "    .dataframe thead th {\n",
       "        text-align: right;\n",
       "    }\n",
       "</style>\n",
       "<table border=\"1\" class=\"dataframe\">\n",
       "  <thead>\n",
       "    <tr style=\"text-align: right;\">\n",
       "      <th></th>\n",
       "      <th>mA</th>\n",
       "      <th>mW</th>\n",
       "    </tr>\n",
       "  </thead>\n",
       "  <tbody>\n",
       "    <tr>\n",
       "      <th>0</th>\n",
       "      <td>7</td>\n",
       "      <td>0.03</td>\n",
       "    </tr>\n",
       "    <tr>\n",
       "      <th>1</th>\n",
       "      <td>8</td>\n",
       "      <td>0.04</td>\n",
       "    </tr>\n",
       "    <tr>\n",
       "      <th>2</th>\n",
       "      <td>9</td>\n",
       "      <td>0.05</td>\n",
       "    </tr>\n",
       "    <tr>\n",
       "      <th>3</th>\n",
       "      <td>10</td>\n",
       "      <td>0.08</td>\n",
       "    </tr>\n",
       "  </tbody>\n",
       "</table>\n",
       "</div>"
      ],
      "text/plain": [
       "   mA    mW\n",
       "0   7  0.03\n",
       "1   8  0.04\n",
       "2   9  0.05\n",
       "3  10  0.08"
      ]
     },
     "execution_count": 37,
     "metadata": {},
     "output_type": "execute_result"
    }
   ],
   "source": [
    "#uncomment to view data table\n",
    "#h\n",
    "#h_above\n",
    "#h_below"
   ]
  },
  {
   "cell_type": "code",
   "execution_count": 50,
   "metadata": {},
   "outputs": [
    {
     "data": {
      "text/plain": [
       "<matplotlib.legend.Legend at 0x1a1880cfd0>"
      ]
     },
     "execution_count": 50,
     "metadata": {},
     "output_type": "execute_result"
    },
    {
     "data": {
      "image/png": "[encoded data removed]",
      "text/plain": [
       "<Figure size 432x288 with 1 Axes>"
      ]
     },
     "metadata": {},
     "output_type": "display_data"
    }
   ],
   "source": [
    "#plot data\n",
    "plt.plot(h.mA, h.mW, 'o', label='Data')\n",
    "\n",
    "#fit and pot a line above the threshhold\n",
    "def test(x, m, b): \n",
    "    return m*x+b\n",
    "param, param_cov = curve_fit(test, h_above.mA, h_above.mW)\n",
    "plt.plot(h_above.mA, test(h_above.mA, *param), 'r', label = 'Above Threshold')\n",
    "\n",
    "#fit and pot a line below the threshhold\n",
    "def test2(x, m, b): \n",
    "    return m*x+b\n",
    "param2, param_cov2 = curve_fit(test, h_below.mA, h_below.mW)\n",
    "plt.plot(h_above.mA, test(h_above.mA, *param), 'r', label = 'Above Threshold')\n",
    "\n",
    "plt.legend(loc='lower right')"
   ]
  },
  {
   "cell_type": "markdown",
   "metadata": {},
   "source": [
    "Find intersection of fitted lines for lasing threshhold. "
   ]
  },
  {
   "cell_type": "code",
   "execution_count": 44,
   "metadata": {},
   "outputs": [
    {
     "name": "stdout",
     "output_type": "stream",
     "text": [
      "Threshhold current =  10.226831896551724 mA\n"
     ]
    }
   ],
   "source": [
    "def intersect(x):\n",
    "    return test2(x, *param2) - test(x, *param)\n",
    "\n",
    "print('Threshhold current = ', scipy.optimize.brentq(intersect, 8,12), 'mA')"
   ]
  },
  {
   "cell_type": "markdown",
   "metadata": {},
   "source": [
    "### With Feedback"
   ]
  },
  {
   "cell_type": "code",
   "execution_count": 45,
   "metadata": {},
   "outputs": [],
   "source": [
    "#read csv files using panda\n",
    "#use 'skiprows' to define data sets before and after the threshhold\n",
    "f = p.read_csv('feedbackDataWithFeedback12.558.csv')\n",
    "f_above = p.read_csv('feedbackDataWithFeedback12.558.csv', skiprows = [i for i in range(1,7)])\n",
    "f_below =  p.read_csv('feedbackDataWithFeedback12.558.csv', skiprows = [i for i in range(8,14)])"
   ]
  },
  {
   "cell_type": "code",
   "execution_count": 51,
   "metadata": {},
   "outputs": [],
   "source": [
    "#uncomment to view data table\n",
    "#f\n",
    "#f_above\n",
    "#f_below"
   ]
  },
  {
   "cell_type": "code",
   "execution_count": 54,
   "metadata": {},
   "outputs": [
    {
     "data": {
      "text/plain": [
       "<matplotlib.legend.Legend at 0x1a18a2ea58>"
      ]
     },
     "execution_count": 54,
     "metadata": {},
     "output_type": "execute_result"
    },
    {
     "data": {
      "image/png": "[encoded data removed]",
      "text/plain": [
       "<Figure size 432x288 with 1 Axes>"
      ]
     },
     "metadata": {},
     "output_type": "display_data"
    }
   ],
   "source": [
    "#plot data\n",
    "plt.plot(f.mA, f.mW, 'o', label='Data')\n",
    "\n",
    "#fit and pot a line above the threshhold\n",
    "def test(x, m, b): \n",
    "    return m*x+b\n",
    "param, param_cov = curve_fit(test, f_above.mA, f_above.mW, p0 = [0.1,0.03])\n",
    "plt.plot(f_below.mA, test2(f_below.mA, *param2), label = 'Below Threshold')\n",
    "\n",
    "#fit and pot a line below the threshhold\n",
    "def test2(x, m, b): \n",
    "    return m*x+b\n",
    "param2, param_cov2 = curve_fit(test, f_below.mA, f_below.mW)\n",
    "plt.plot(f_above.mA, test(f_above.mA, *param), 'r', label = 'Above Threshold')\n",
    "\n",
    "plt.legend(loc='lower right')"
   ]
  },
  {
   "cell_type": "markdown",
   "metadata": {},
   "source": [
    "Find intersection of fitted lines for lasing threshhold. "
   ]
  },
  {
   "cell_type": "code",
   "execution_count": 55,
   "metadata": {},
   "outputs": [
    {
     "name": "stdout",
     "output_type": "stream",
     "text": [
      "Threshhold current =  10.208070482404446 mA\n"
     ]
    }
   ],
   "source": [
    "def intersect(x):\n",
    "    return test2(x, *param2) - test(x, *param)\n",
    "\n",
    "print('Threshhold current = ', scipy.optimize.brentq(intersect, 8,12), 'mA')"
   ]
  },
  {
   "cell_type": "code",
   "execution_count": null,
   "metadata": {},
   "outputs": [],
   "source": []
  }
 ],
 "metadata": {
  "kernelspec": {
   "display_name": "Python 3",
   "language": "python",
   "name": "python3"
  },
  "language_info": {
   "codemirror_mode": {
    "name": "ipython",
    "version": 3
   },
   "file_extension": ".py",
   "mimetype": "text/x-python",
   "name": "python",
   "nbconvert_exporter": "python",
   "pygments_lexer": "ipython3",
   "version": "3.6.5"
  }
 },
 "nbformat": 4,
 "nbformat_minor": 2
}
