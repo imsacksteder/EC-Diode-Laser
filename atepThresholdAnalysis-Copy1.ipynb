{
 "cells": [
  {
   "cell_type": "code",
   "execution_count": 1,
   "metadata": {},
   "outputs": [],
   "source": [
    "import pandas as pd\n",
    "import os\n",
    "import pathlib\n",
    "import numpy as np"
   ]
  },
  {
   "cell_type": "code",
   "execution_count": 2,
   "metadata": {},
   "outputs": [
    {
     "data": {
      "text/plain": [
       "WindowsPath('C:/Users/zuhua/Documents/ATEP/spectro_files')"
      ]
     },
     "execution_count": 2,
     "metadata": {},
     "output_type": "execute_result"
    }
   ],
   "source": [
    "txtfolder = \"\"\n",
    "csvfolder = \"\"\n",
    "#pathlib.Path(txtfolder).absolute()"
   ]
  },
  {
   "cell_type": "code",
   "execution_count": 3,
   "metadata": {},
   "outputs": [
    {
     "data": {
      "text/plain": [
       "WindowsPath('C:/Users/zuhua/Documents/ATEP/spectro_csv')"
      ]
     },
     "execution_count": 3,
     "metadata": {},
     "output_type": "execute_result"
    }
   ],
   "source": [
    "#pathlib.Path(csvfolder).absolute()"
   ]
  },
  {
   "cell_type": "code",
   "execution_count": 4,
   "metadata": {},
   "outputs": [],
   "source": [
    "txtfolder_path = \"\"\n",
    "csvfolder_path = \"\"\n",
    "path = txtfolder_path\n",
    "savepath = csvfolder_path"
   ]
  },
  {
   "cell_type": "code",
   "execution_count": 16,
   "metadata": {},
   "outputs": [],
   "source": [
    "def read_mtd_file(filename , n , colname):\n",
    "    df = pd.read_csv(path + \"/\" + filename)\n",
    "    df = df[n:]\n",
    "    df.dropna(inplace = True)\n",
    "    df = df[colname].str.split(\"\\t\" , n=30 , expand=True)\n",
    "    df = df.apply(pd.to_numeric)\n",
    "    return df"
   ]
  },
  {
   "cell_type": "code",
   "execution_count": 6,
   "metadata": {},
   "outputs": [],
   "source": [
    "def write_to_csv(path , savepath):\n",
    "    for filename in os.listdir(path):\n",
    "        df = read_mtd_file(filename , 16 , \"@mightex_spectrum_save\")\n",
    "        df = df.apply(pd.to_numeric)\n",
    "        df.to_csv(savepath + '/' + filename.replace(\".mtd\" , \".csv\") , header=False , index=False)\n",
    "    return"
   ]
  },
  {
   "cell_type": "code",
   "execution_count": 7,
   "metadata": {},
   "outputs": [],
   "source": [
    "#write_to_csv(path , savepath)"
   ]
  },
  {
   "cell_type": "code",
   "execution_count": null,
   "metadata": {},
   "outputs": [],
   "source": [
    "pd.Series."
   ]
  },
  {
   "cell_type": "code",
   "execution_count": 31,
   "metadata": {
    "scrolled": false
   },
   "outputs": [],
   "source": [
    "for filename in os.listdir(path):\n",
    "    df = read_mtd_file(filename , 16 , \"@mightex_spectrum_save\")\n",
    "    #b = df.loc[df[2] == max(df[2])][[1]].values\n",
    "    b = df.loc[df[2] == max(df[2]),1].values[0]\n",
    "    #b = pd.DataFrame(b)\n",
    "    #b = b.values[0][0]\n",
    "    a = df.loc[df[2] == max(df[2]),2].values[0]\n",
    "    #a = pd.DataFrame(a)\n",
    "    #a = a.values[0][0]\n",
    "    tt = {'name' : filename.replace(\".mtd\" , \"\") , 'wavelength' : [a] , 'frequency' : [b]}\n",
    "    tt = pd.DataFrame(tt)\n",
    "    filename = \"\"\n",
    "    tt.to_csv(filename , mode = 'a' , header=None , index=None)"
   ]
  },
  {
   "cell_type": "code",
   "execution_count": null,
   "metadata": {},
   "outputs": [],
   "source": []
  }
 ],
 "metadata": {
  "kernelspec": {
   "display_name": "Python 3",
   "language": "python",
   "name": "python3"
  },
  "language_info": {
   "codemirror_mode": {
    "name": "ipython",
    "version": 3
   },
   "file_extension": ".py",
   "mimetype": "text/x-python",
   "name": "python",
   "nbconvert_exporter": "python",
   "pygments_lexer": "ipython3",
   "version": "3.6.10"
  },
  "toc": {
   "base_numbering": 1,
   "nav_menu": {},
   "number_sections": true,
   "sideBar": true,
   "skip_h1_title": false,
   "title_cell": "Table of Contents",
   "title_sidebar": "Contents",
   "toc_cell": false,
   "toc_position": {},
   "toc_section_display": true,
   "toc_window_display": false
  }
 },
 "nbformat": 4,
 "nbformat_minor": 4
}
